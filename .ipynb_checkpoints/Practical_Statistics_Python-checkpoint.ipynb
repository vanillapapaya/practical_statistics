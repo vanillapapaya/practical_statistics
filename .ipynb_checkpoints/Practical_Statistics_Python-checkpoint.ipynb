{
 "cells": [
  {
   "cell_type": "markdown",
   "metadata": {},
   "source": [
    "## Practical Statistics for Data Science with Python\n",
    "\n",
    "해당 Notebook 혹은 Blog 게시글의 모든 내용은 *피터 브루스* 저의 **데이터 과학을 위한 통계**(Practical Statistics for Data Scientists, *Peter Bruce*, 2018)를 기반으로 작성되었습니다. 서적에 제시된 R 기반의 코드를 Python에서 활용할 수 있도록 변경하여 작성하였습니다. 또한 예제에 사용된 데이터 집합 또한 서적에서 제시된 [github](https://github.com/andrewgbruce/statistics-for-data-scientists)에서 다운로드 받아 활용하였습니다. 그 외에 사용된 데이터 집합은 추가적으로 출처를 밝히겠습니다.  \n",
    "\n",
    "![그림](https://www.hanbit.co.kr/data/books/B2845507407_l.jpg)"
   ]
  },
  {
   "cell_type": "markdown",
   "metadata": {},
   "source": [
    "---"
   ]
  },
  {
   "cell_type": "markdown",
   "metadata": {},
   "source": [
    "#### - 용어 정리 "
   ]
  },
  {
   "cell_type": "markdown",
   "metadata": {},
   "source": [
    "앙상블(ensemble) : 특정 시스템들의 모음을 의미합니다. 여기서는, 여러 모델이 모여져 예측 결과를 도출하는 방법을 뜻합니다.\n",
    "\n",
    "부트스트랩(bootstrap) : 표본에서 추가적으로 표본을 복원추출하고, 각 표본에 대한 통계량과 모델을 다시 계산하여 통계량의 표본분포를 추정하는 방법을 뜻합니다.\n",
    "\n",
    "배깅(bagging) : 부트스트랩 종합(bootstrap aggregation)의 줄임말입니다. 데이터를 부트스트래핑해서 예측 결과를 도출하는 모델을 만드는 방법을 뜻합니다.  "
   ]
  },
  {
   "cell_type": "markdown",
   "metadata": {},
   "source": [
    "#### - 배깅의 추가설명"
   ]
  },
  {
   "cell_type": "markdown",
   "metadata": {},
   "source": [
    "<script type=\"text/javascript\" src=\"http://cdn.mathjax.org/mathjax/latest/MathJax.js?config=TeX-AMS-MML_HTMLorMML\"></script>\n",
    "\n",
    "응답변수 \\\\( Y \\\\)와 \\\\( P \\\\)개의 예측변수 \\\\( X = X_{1},X_{2},...,X_{p} \\\\)로 이루어진 \\\\( N \\\\)개의 레코드가 있다고 가정합니다.  \n",
    "배깅은 예측을 위해 만든 여러 모델들을 \n"
   ]
  },
  {
   "cell_type": "markdown",
   "metadata": {},
   "source": [
    "### 00. 필수 모듈"
   ]
  },
  {
   "cell_type": "code",
   "execution_count": 1,
   "metadata": {},
   "outputs": [],
   "source": [
    "import pandas as pd\n",
    "import seaborn as sns\n",
    "\n",
    "from sklearn import datasets\n",
    "from sklearn.model_selection import train_test_split\n",
    "from sklearn import metrics"
   ]
  },
  {
   "cell_type": "markdown",
   "metadata": {},
   "source": [
    "### 01. Random Forest"
   ]
  },
  {
   "cell_type": "markdown",
   "metadata": {},
   "source": [
    "랜덤포레스트는 의사 결정 트리 모델과 배깅을 합친 모델입니다. 데이터를 분류하거나 예측 결과를 도출할 때, "
   ]
  },
  {
   "cell_type": "code",
   "execution_count": 3,
   "metadata": {},
   "outputs": [],
   "source": [
    "from sklearn.ensemble import RandomForestClassifier"
   ]
  },
  {
   "cell_type": "code",
   "execution_count": 4,
   "metadata": {},
   "outputs": [
    {
     "data": {
      "text/html": [
       "<div>\n",
       "<style scoped>\n",
       "    .dataframe tbody tr th:only-of-type {\n",
       "        vertical-align: middle;\n",
       "    }\n",
       "\n",
       "    .dataframe tbody tr th {\n",
       "        vertical-align: top;\n",
       "    }\n",
       "\n",
       "    .dataframe thead th {\n",
       "        text-align: right;\n",
       "    }\n",
       "</style>\n",
       "<table border=\"1\" class=\"dataframe\">\n",
       "  <thead>\n",
       "    <tr style=\"text-align: right;\">\n",
       "      <th></th>\n",
       "      <th>outcome</th>\n",
       "      <th>payment_inc_ratio</th>\n",
       "      <th>dti</th>\n",
       "    </tr>\n",
       "  </thead>\n",
       "  <tbody>\n",
       "    <tr>\n",
       "      <td>0</td>\n",
       "      <td>target</td>\n",
       "      <td>9.00000</td>\n",
       "      <td>22.50</td>\n",
       "    </tr>\n",
       "    <tr>\n",
       "      <td>1</td>\n",
       "      <td>default</td>\n",
       "      <td>5.46933</td>\n",
       "      <td>21.33</td>\n",
       "    </tr>\n",
       "    <tr>\n",
       "      <td>2</td>\n",
       "      <td>paid off</td>\n",
       "      <td>6.90294</td>\n",
       "      <td>8.97</td>\n",
       "    </tr>\n",
       "    <tr>\n",
       "      <td>3</td>\n",
       "      <td>paid off</td>\n",
       "      <td>11.14800</td>\n",
       "      <td>1.83</td>\n",
       "    </tr>\n",
       "    <tr>\n",
       "      <td>4</td>\n",
       "      <td>default</td>\n",
       "      <td>3.72120</td>\n",
       "      <td>10.81</td>\n",
       "    </tr>\n",
       "    <tr>\n",
       "      <td>...</td>\n",
       "      <td>...</td>\n",
       "      <td>...</td>\n",
       "      <td>...</td>\n",
       "    </tr>\n",
       "    <tr>\n",
       "      <td>196</td>\n",
       "      <td>default</td>\n",
       "      <td>11.66300</td>\n",
       "      <td>26.09</td>\n",
       "    </tr>\n",
       "    <tr>\n",
       "      <td>197</td>\n",
       "      <td>default</td>\n",
       "      <td>2.97641</td>\n",
       "      <td>16.41</td>\n",
       "    </tr>\n",
       "    <tr>\n",
       "      <td>198</td>\n",
       "      <td>default</td>\n",
       "      <td>1.96846</td>\n",
       "      <td>19.98</td>\n",
       "    </tr>\n",
       "    <tr>\n",
       "      <td>199</td>\n",
       "      <td>paid off</td>\n",
       "      <td>9.64200</td>\n",
       "      <td>20.17</td>\n",
       "    </tr>\n",
       "    <tr>\n",
       "      <td>200</td>\n",
       "      <td>paid off</td>\n",
       "      <td>7.03924</td>\n",
       "      <td>13.88</td>\n",
       "    </tr>\n",
       "  </tbody>\n",
       "</table>\n",
       "<p>201 rows × 3 columns</p>\n",
       "</div>"
      ],
      "text/plain": [
       "      outcome  payment_inc_ratio    dti\n",
       "0      target            9.00000  22.50\n",
       "1     default            5.46933  21.33\n",
       "2    paid off            6.90294   8.97\n",
       "3    paid off           11.14800   1.83\n",
       "4     default            3.72120  10.81\n",
       "..        ...                ...    ...\n",
       "196   default           11.66300  26.09\n",
       "197   default            2.97641  16.41\n",
       "198   default            1.96846  19.98\n",
       "199  paid off            9.64200  20.17\n",
       "200  paid off            7.03924  13.88\n",
       "\n",
       "[201 rows x 3 columns]"
      ]
     },
     "execution_count": 4,
     "metadata": {},
     "output_type": "execute_result"
    }
   ],
   "source": [
    "newloan = pd.read_csv(\"data/loan200.csv\")\n",
    "newloan"
   ]
  },
  {
   "cell_type": "code",
   "execution_count": null,
   "metadata": {},
   "outputs": [],
   "source": []
  }
 ],
 "metadata": {
  "kernelspec": {
   "display_name": "Python 3",
   "language": "python",
   "name": "python3"
  },
  "language_info": {
   "codemirror_mode": {
    "name": "ipython",
    "version": 3
   },
   "file_extension": ".py",
   "mimetype": "text/x-python",
   "name": "python",
   "nbconvert_exporter": "python",
   "pygments_lexer": "ipython3",
   "version": "3.7.4"
  }
 },
 "nbformat": 4,
 "nbformat_minor": 4
}
