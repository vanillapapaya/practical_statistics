{
 "cells": [
  {
   "cell_type": "markdown",
   "metadata": {},
   "source": [
    "## Practical Statistics for Data Science with R\n",
    "\n",
    "해당 Notebook 혹은 Blog 게시글의 모든 내용은 *피터 브루스* 저의 **데이터 과학을 위한 통계**(Practical Statistics for Data Scientists, *Peter Bruce*, 2018)를 기반으로 작성되었습니다.  또한 예제에 사용된 데이터 집합 또한 서적에서 제시된 [github](https://github.com/andrewgbruce/statistics-for-data-scientists)에서 다운로드 받아 활용하였습니다. 그 외에 사용된 데이터 집합은 추가적으로 출처를 밝히겠습니다. 개인 공부용으로 작성한 노트북입니다.\n",
    "\n",
    "![그림](https://www.hanbit.co.kr/data/books/B2845507407_l.jpg)"
   ]
  },
  {
   "cell_type": "markdown",
   "metadata": {},
   "source": [
    "---"
   ]
  },
  {
   "cell_type": "markdown",
   "metadata": {},
   "source": [
    "### 목차"
   ]
  },
  {
   "cell_type": "markdown",
   "metadata": {},
   "source": [
    "+ 00. 용어 정리\n",
    "+ 01. 필수 패키지\n",
    "+ 02. Random Forest\n",
    "    + Classification\n",
    "    + Regression"
   ]
  },
  {
   "cell_type": "markdown",
   "metadata": {},
   "source": [
    "---"
   ]
  },
  {
   "cell_type": "markdown",
   "metadata": {},
   "source": [
    "### 00. 용어 정리 "
   ]
  },
  {
   "cell_type": "markdown",
   "metadata": {},
   "source": [
    "앙상블(ensemble) : 특정 시스템들의 모음을 의미합니다. 여기서는, 여러 모델이 모여져 예측 결과를 도출하는 방법을 뜻합니다.\n",
    "\n",
    "부트스트랩(bootstrap) : 표본에서 추가적으로 표본을 복원추출하고, 각 표본에 대한 통계량과 모델을 다시 계산하여 통계량의 표본분포를 추정하는 방법을 뜻합니다.\n",
    "\n",
    "배깅(bagging) : 부트스트랩 종합(bootstrap aggregation)의 줄임말입니다. 데이터를 부트스트래핑해서 예측 결과를 도출하는 모델을 만드는 방법을 뜻합니다.  "
   ]
  },
  {
   "cell_type": "markdown",
   "metadata": {},
   "source": [
    "#### - 배깅의 추가설명"
   ]
  },
  {
   "cell_type": "markdown",
   "metadata": {},
   "source": [
    "<script type=\"text/javascript\" src=\"http://cdn.mathjax.org/mathjax/latest/MathJax.js?config=TeX-AMS-MML_HTMLorMML\"></script>\n",
    "\n",
    "응답변수 \\\\( Y \\\\)와 \\\\( P \\\\)개의 예측변수 \\\\( X = X_{1},X_{2},...,X_{p} \\\\)로 이루어진 \\\\( N \\\\)개의 레코드가 있다고 가정합니다.  \n",
    "배깅은 예측을 위해 만든 여러 모델들을 \n"
   ]
  },
  {
   "cell_type": "markdown",
   "metadata": {},
   "source": [
    "### 01. 필수 패키지"
   ]
  },
  {
   "cell_type": "markdown",
   "metadata": {},
   "source": [
    "필수 패키지는 각 모델의 결과로 나타나는 각종 수치들을 시각화하기 위한 패키지를 의미한다."
   ]
  },
  {
   "cell_type": "code",
   "execution_count": 83,
   "metadata": {},
   "outputs": [],
   "source": [
    "library(ggplot2) # r version이 4.0.0일 경우 ggplot을 사용할 수 없습니다. 따라서 ggplot2를 사용합니다."
   ]
  },
  {
   "cell_type": "markdown",
   "metadata": {},
   "source": [
    "---"
   ]
  },
  {
   "cell_type": "markdown",
   "metadata": {},
   "source": [
    "### 02. Random Forest"
   ]
  },
  {
   "cell_type": "markdown",
   "metadata": {},
   "source": [
    "랜덤포레스트는 의사 결정 트리 모델과 배깅을 합친 모델입니다. 데이터를 분류하거나 예측 결과를 도출할 때, "
   ]
  },
  {
   "cell_type": "code",
   "execution_count": 85,
   "metadata": {},
   "outputs": [],
   "source": [
    "library(randomForest)\n",
    "set.seed(21) "
   ]
  },
  {
   "cell_type": "markdown",
   "metadata": {},
   "source": [
    "우선 loan3000 데이터를 불러옵니다. 각 변수에 대한 설명은 아래와 같습니다.\n",
    "- **outcome** : \n",
    "- **purpose_** :\n",
    "- **dti** : 소득에 대한 부채 비율 (단위 : %)\n",
    "- **borrower_score** :\n",
    "- **payment_inc_ratio** : 소득에 대한 대출 상환 비율 (단위 : %)"
   ]
  },
  {
   "cell_type": "markdown",
   "metadata": {},
   "source": [
    "#### Classification"
   ]
  },
  {
   "cell_type": "code",
   "execution_count": 33,
   "metadata": {},
   "outputs": [
    {
     "data": {
      "text/html": [
       "<table>\n",
       "<caption>A data.frame: 6 × 6</caption>\n",
       "<thead>\n",
       "\t<tr><th></th><th scope=col>X</th><th scope=col>outcome</th><th scope=col>purpose_</th><th scope=col>dti</th><th scope=col>borrower_score</th><th scope=col>payment_inc_ratio</th></tr>\n",
       "\t<tr><th></th><th scope=col>&lt;int&gt;</th><th scope=col>&lt;chr&gt;</th><th scope=col>&lt;chr&gt;</th><th scope=col>&lt;dbl&gt;</th><th scope=col>&lt;dbl&gt;</th><th scope=col>&lt;dbl&gt;</th></tr>\n",
       "</thead>\n",
       "<tbody>\n",
       "\t<tr><th scope=row>1</th><td>32109</td><td>paid off</td><td>debt_consolidation</td><td>21.23</td><td>0.40</td><td> 5.11135</td></tr>\n",
       "\t<tr><th scope=row>2</th><td>16982</td><td>default </td><td>credit_card       </td><td>15.49</td><td>0.40</td><td> 5.43165</td></tr>\n",
       "\t<tr><th scope=row>3</th><td>25335</td><td>paid off</td><td>debt_consolidation</td><td>27.30</td><td>0.70</td><td> 9.23003</td></tr>\n",
       "\t<tr><th scope=row>4</th><td>34580</td><td>paid off</td><td>major_purchase    </td><td>21.11</td><td>0.40</td><td> 2.33482</td></tr>\n",
       "\t<tr><th scope=row>5</th><td>14424</td><td>default </td><td>debt_consolidation</td><td>16.46</td><td>0.45</td><td>12.10320</td></tr>\n",
       "\t<tr><th scope=row>6</th><td>35621</td><td>paid off</td><td>debt_consolidation</td><td>12.12</td><td>0.50</td><td> 3.89391</td></tr>\n",
       "</tbody>\n",
       "</table>\n"
      ],
      "text/latex": [
       "A data.frame: 6 × 6\n",
       "\\begin{tabular}{r|llllll}\n",
       "  & X & outcome & purpose\\_ & dti & borrower\\_score & payment\\_inc\\_ratio\\\\\n",
       "  & <int> & <chr> & <chr> & <dbl> & <dbl> & <dbl>\\\\\n",
       "\\hline\n",
       "\t1 & 32109 & paid off & debt\\_consolidation & 21.23 & 0.40 &  5.11135\\\\\n",
       "\t2 & 16982 & default  & credit\\_card        & 15.49 & 0.40 &  5.43165\\\\\n",
       "\t3 & 25335 & paid off & debt\\_consolidation & 27.30 & 0.70 &  9.23003\\\\\n",
       "\t4 & 34580 & paid off & major\\_purchase     & 21.11 & 0.40 &  2.33482\\\\\n",
       "\t5 & 14424 & default  & debt\\_consolidation & 16.46 & 0.45 & 12.10320\\\\\n",
       "\t6 & 35621 & paid off & debt\\_consolidation & 12.12 & 0.50 &  3.89391\\\\\n",
       "\\end{tabular}\n"
      ],
      "text/markdown": [
       "\n",
       "A data.frame: 6 × 6\n",
       "\n",
       "| <!--/--> | X &lt;int&gt; | outcome &lt;chr&gt; | purpose_ &lt;chr&gt; | dti &lt;dbl&gt; | borrower_score &lt;dbl&gt; | payment_inc_ratio &lt;dbl&gt; |\n",
       "|---|---|---|---|---|---|---|\n",
       "| 1 | 32109 | paid off | debt_consolidation | 21.23 | 0.40 |  5.11135 |\n",
       "| 2 | 16982 | default  | credit_card        | 15.49 | 0.40 |  5.43165 |\n",
       "| 3 | 25335 | paid off | debt_consolidation | 27.30 | 0.70 |  9.23003 |\n",
       "| 4 | 34580 | paid off | major_purchase     | 21.11 | 0.40 |  2.33482 |\n",
       "| 5 | 14424 | default  | debt_consolidation | 16.46 | 0.45 | 12.10320 |\n",
       "| 6 | 35621 | paid off | debt_consolidation | 12.12 | 0.50 |  3.89391 |\n",
       "\n"
      ],
      "text/plain": [
       "  X     outcome  purpose_           dti   borrower_score payment_inc_ratio\n",
       "1 32109 paid off debt_consolidation 21.23 0.40            5.11135         \n",
       "2 16982 default  credit_card        15.49 0.40            5.43165         \n",
       "3 25335 paid off debt_consolidation 27.30 0.70            9.23003         \n",
       "4 34580 paid off major_purchase     21.11 0.40            2.33482         \n",
       "5 14424 default  debt_consolidation 16.46 0.45           12.10320         \n",
       "6 35621 paid off debt_consolidation 12.12 0.50            3.89391         "
      ]
     },
     "metadata": {},
     "output_type": "display_data"
    }
   ],
   "source": [
    "loan3000 <- read.csv(\"data/loan3000.csv\")\n",
    "head(loan3000)"
   ]
  },
  {
   "cell_type": "markdown",
   "metadata": {},
   "source": [
    "불러온 데이터를 이용하여 outcome을 예측하기 위해, 우선 문자열 변수인 outcome을 factor로 변경해야 합니다. factor로 변경하는 방법은 아래와 같습니다. 이후 결과를 보면, chr형이었던 outcome이 fct형으로 변경된 것을 확인할 수 있습니다."
   ]
  },
  {
   "cell_type": "code",
   "execution_count": 51,
   "metadata": {},
   "outputs": [
    {
     "data": {
      "text/html": [
       "<table>\n",
       "<caption>A data.frame: 6 × 6</caption>\n",
       "<thead>\n",
       "\t<tr><th></th><th scope=col>X</th><th scope=col>outcome</th><th scope=col>purpose_</th><th scope=col>dti</th><th scope=col>borrower_score</th><th scope=col>payment_inc_ratio</th></tr>\n",
       "\t<tr><th></th><th scope=col>&lt;int&gt;</th><th scope=col>&lt;fct&gt;</th><th scope=col>&lt;chr&gt;</th><th scope=col>&lt;dbl&gt;</th><th scope=col>&lt;dbl&gt;</th><th scope=col>&lt;dbl&gt;</th></tr>\n",
       "</thead>\n",
       "<tbody>\n",
       "\t<tr><th scope=row>1</th><td>32109</td><td>paid off</td><td>debt_consolidation</td><td>21.23</td><td>0.40</td><td> 5.11135</td></tr>\n",
       "\t<tr><th scope=row>2</th><td>16982</td><td>default </td><td>credit_card       </td><td>15.49</td><td>0.40</td><td> 5.43165</td></tr>\n",
       "\t<tr><th scope=row>3</th><td>25335</td><td>paid off</td><td>debt_consolidation</td><td>27.30</td><td>0.70</td><td> 9.23003</td></tr>\n",
       "\t<tr><th scope=row>4</th><td>34580</td><td>paid off</td><td>major_purchase    </td><td>21.11</td><td>0.40</td><td> 2.33482</td></tr>\n",
       "\t<tr><th scope=row>5</th><td>14424</td><td>default </td><td>debt_consolidation</td><td>16.46</td><td>0.45</td><td>12.10320</td></tr>\n",
       "\t<tr><th scope=row>6</th><td>35621</td><td>paid off</td><td>debt_consolidation</td><td>12.12</td><td>0.50</td><td> 3.89391</td></tr>\n",
       "</tbody>\n",
       "</table>\n"
      ],
      "text/latex": [
       "A data.frame: 6 × 6\n",
       "\\begin{tabular}{r|llllll}\n",
       "  & X & outcome & purpose\\_ & dti & borrower\\_score & payment\\_inc\\_ratio\\\\\n",
       "  & <int> & <fct> & <chr> & <dbl> & <dbl> & <dbl>\\\\\n",
       "\\hline\n",
       "\t1 & 32109 & paid off & debt\\_consolidation & 21.23 & 0.40 &  5.11135\\\\\n",
       "\t2 & 16982 & default  & credit\\_card        & 15.49 & 0.40 &  5.43165\\\\\n",
       "\t3 & 25335 & paid off & debt\\_consolidation & 27.30 & 0.70 &  9.23003\\\\\n",
       "\t4 & 34580 & paid off & major\\_purchase     & 21.11 & 0.40 &  2.33482\\\\\n",
       "\t5 & 14424 & default  & debt\\_consolidation & 16.46 & 0.45 & 12.10320\\\\\n",
       "\t6 & 35621 & paid off & debt\\_consolidation & 12.12 & 0.50 &  3.89391\\\\\n",
       "\\end{tabular}\n"
      ],
      "text/markdown": [
       "\n",
       "A data.frame: 6 × 6\n",
       "\n",
       "| <!--/--> | X &lt;int&gt; | outcome &lt;fct&gt; | purpose_ &lt;chr&gt; | dti &lt;dbl&gt; | borrower_score &lt;dbl&gt; | payment_inc_ratio &lt;dbl&gt; |\n",
       "|---|---|---|---|---|---|---|\n",
       "| 1 | 32109 | paid off | debt_consolidation | 21.23 | 0.40 |  5.11135 |\n",
       "| 2 | 16982 | default  | credit_card        | 15.49 | 0.40 |  5.43165 |\n",
       "| 3 | 25335 | paid off | debt_consolidation | 27.30 | 0.70 |  9.23003 |\n",
       "| 4 | 34580 | paid off | major_purchase     | 21.11 | 0.40 |  2.33482 |\n",
       "| 5 | 14424 | default  | debt_consolidation | 16.46 | 0.45 | 12.10320 |\n",
       "| 6 | 35621 | paid off | debt_consolidation | 12.12 | 0.50 |  3.89391 |\n",
       "\n"
      ],
      "text/plain": [
       "  X     outcome  purpose_           dti   borrower_score payment_inc_ratio\n",
       "1 32109 paid off debt_consolidation 21.23 0.40            5.11135         \n",
       "2 16982 default  credit_card        15.49 0.40            5.43165         \n",
       "3 25335 paid off debt_consolidation 27.30 0.70            9.23003         \n",
       "4 34580 paid off major_purchase     21.11 0.40            2.33482         \n",
       "5 14424 default  debt_consolidation 16.46 0.45           12.10320         \n",
       "6 35621 paid off debt_consolidation 12.12 0.50            3.89391         "
      ]
     },
     "metadata": {},
     "output_type": "display_data"
    }
   ],
   "source": [
    "loan3000$outcome = factor(loan3000$outcome)\n",
    "head(loan3000)"
   ]
  },
  {
   "cell_type": "markdown",
   "metadata": {},
   "source": [
    "r에서의 randomForest는 다음과 같은 인자를 가집니다.  \n",
    "\n",
    "- **formula** : 모델의 형태입니다. 어떤 변수(X, target variable)를 어떤 변수를 통해 예측(예측 변수, predict variable)할지 결정합니다.   \n",
    "target variable ~ predict variable 1 + predict variable 2 + ... 와 같은 방식으로 표시합니다.\n",
    "- **data** : 변수를 가지고 있는 dataset입니다.\n",
    "- **y** : 응답 변수입니다. 해당 변수가 없을 경우에는, Random Forest는 무감독 모드를 진행합니다. 해당 변수가 factor일 경우에는 classification을 진행하고, 그렇지 않을 경우에는 regression을 진행합니다.  \n",
    "- **ntree** : tree의 갯수를 의미합니다. 기본값으로 500개를 학습을 통해 생성합니다.\n",
    "- **mtry** : 각 split별로 선택하는 변수의 갯수를 의미합니다. tree model의 매 단계마다 mtry의 갯수만큼 변수를 샘플링한 후, 그 샘플링한 변수 중에서 하나를 선택합니다. 따라서, formula의 예측 변수의 갯수보다 많으면 안됩니다.\n",
    "- **xtest** : 검정 집합에 대한 예측 변수가 들어 있는 데이터 프레임입니다. formula의 X와 같은 form을 가지고 있어야 합니다.\n",
    "  \n",
    "이를 이용하여, 대출 데이터 loan3000을 randomForest 패키지에 기본 변수를 이용하여 적용합니다."
   ]
  },
  {
   "cell_type": "code",
   "execution_count": 64,
   "metadata": {},
   "outputs": [],
   "source": [
    "rf <- randomForest(outcome ~ borrower_score + payment_inc_ratio, data = loan3000)"
   ]
  },
  {
   "cell_type": "markdown",
   "metadata": {},
   "source": [
    "생성된 모델을 확인해봅니다."
   ]
  },
  {
   "cell_type": "code",
   "execution_count": 65,
   "metadata": {},
   "outputs": [
    {
     "name": "stdout",
     "output_type": "stream",
     "text": [
      "\n",
      "Call:\n",
      " randomForest(formula = outcome ~ borrower_score + payment_inc_ratio,      data = loan3000) \n",
      "               Type of random forest: classification\n",
      "                     Number of trees: 500\n",
      "No. of variables tried at each split: 1\n",
      "\n",
      "        OOB estimate of  error rate: 38.83%\n",
      "Confusion matrix:\n",
      "         default paid off class.error\n",
      "default      870      575   0.3979239\n",
      "paid off     590      965   0.3794212\n"
     ]
    }
   ],
   "source": [
    "print(rf)"
   ]
  },
  {
   "cell_type": "markdown",
   "metadata": {},
   "source": [
    "getTree 함수를 이용하여 생성된 모델을 확인할 수 있습니다. 단, tree의 갯수가 500개나 되기 때문에 모두 확인하기 어렵습니다."
   ]
  },
  {
   "cell_type": "code",
   "execution_count": 84,
   "metadata": {},
   "outputs": [
    {
     "data": {
      "text/html": [
       "<table>\n",
       "<caption>A matrix: 6 × 6 of type dbl</caption>\n",
       "<thead>\n",
       "\t<tr><th></th><th scope=col>left daughter</th><th scope=col>right daughter</th><th scope=col>split var</th><th scope=col>split point</th><th scope=col>status</th><th scope=col>prediction</th></tr>\n",
       "</thead>\n",
       "<tbody>\n",
       "\t<tr><th scope=row>1</th><td> 2</td><td> 3</td><td>2</td><td>9.654605</td><td>1</td><td>0</td></tr>\n",
       "\t<tr><th scope=row>2</th><td> 4</td><td> 5</td><td>1</td><td>0.575000</td><td>1</td><td>0</td></tr>\n",
       "\t<tr><th scope=row>3</th><td> 6</td><td> 7</td><td>1</td><td>0.425000</td><td>1</td><td>0</td></tr>\n",
       "\t<tr><th scope=row>4</th><td> 8</td><td> 9</td><td>2</td><td>9.564405</td><td>1</td><td>0</td></tr>\n",
       "\t<tr><th scope=row>5</th><td>10</td><td>11</td><td>2</td><td>2.942630</td><td>1</td><td>0</td></tr>\n",
       "\t<tr><th scope=row>6</th><td>12</td><td>13</td><td>1</td><td>0.325000</td><td>1</td><td>0</td></tr>\n",
       "</tbody>\n",
       "</table>\n"
      ],
      "text/latex": [
       "A matrix: 6 × 6 of type dbl\n",
       "\\begin{tabular}{r|llllll}\n",
       "  & left daughter & right daughter & split var & split point & status & prediction\\\\\n",
       "\\hline\n",
       "\t1 &  2 &  3 & 2 & 9.654605 & 1 & 0\\\\\n",
       "\t2 &  4 &  5 & 1 & 0.575000 & 1 & 0\\\\\n",
       "\t3 &  6 &  7 & 1 & 0.425000 & 1 & 0\\\\\n",
       "\t4 &  8 &  9 & 2 & 9.564405 & 1 & 0\\\\\n",
       "\t5 & 10 & 11 & 2 & 2.942630 & 1 & 0\\\\\n",
       "\t6 & 12 & 13 & 1 & 0.325000 & 1 & 0\\\\\n",
       "\\end{tabular}\n"
      ],
      "text/markdown": [
       "\n",
       "A matrix: 6 × 6 of type dbl\n",
       "\n",
       "| <!--/--> | left daughter | right daughter | split var | split point | status | prediction |\n",
       "|---|---|---|---|---|---|---|\n",
       "| 1 |  2 |  3 | 2 | 9.654605 | 1 | 0 |\n",
       "| 2 |  4 |  5 | 1 | 0.575000 | 1 | 0 |\n",
       "| 3 |  6 |  7 | 1 | 0.425000 | 1 | 0 |\n",
       "| 4 |  8 |  9 | 2 | 9.564405 | 1 | 0 |\n",
       "| 5 | 10 | 11 | 2 | 2.942630 | 1 | 0 |\n",
       "| 6 | 12 | 13 | 1 | 0.325000 | 1 | 0 |\n",
       "\n"
      ],
      "text/plain": [
       "  left daughter right daughter split var split point status prediction\n",
       "1  2             3             2         9.654605    1      0         \n",
       "2  4             5             1         0.575000    1      0         \n",
       "3  6             7             1         0.425000    1      0         \n",
       "4  8             9             2         9.564405    1      0         \n",
       "5 10            11             2         2.942630    1      0         \n",
       "6 12            13             1         0.325000    1      0         "
      ]
     },
     "metadata": {},
     "output_type": "display_data"
    }
   ],
   "source": [
    "head(getTree(rf))"
   ]
  },
  {
   "cell_type": "markdown",
   "metadata": {},
   "source": [
    "주머니 외부(Out-of-bad, OOB) 추정 에러는 tree model을 만들 때 사용한 학습 데이터를 제외한 나머지 데이터를 이용, 모델의 오차율을 계산하여 나타냅니다. 아래 코드를 이용하여 랜덤 포레스트에서 트리의 개수에 따른 OOB 에러의 변화를 그릴 수 있습니다."
   ]
  },
  {
   "cell_type": "code",
   "execution_count": 67,
   "metadata": {},
   "outputs": [
    {
     "data": {
      "image/png": "[encoded data removed]",
      "text/plain": [
       "plot without title"
      ]
     },
     "metadata": {
      "image/png": {
       "height": 420,
       "width": 420
      },
      "text/plain": {
       "height": 420,
       "width": 420
      }
     },
     "output_type": "display_data"
    }
   ],
   "source": [
    "error_df = data.frame(error_rate = rf$err.rate[,'OOB'],\n",
    "                     num_trees = 1:rf$ntree)\n",
    "ggplot(error_df, aes(x=num_trees, y=error_rate)) + geom_line()"
   ]
  },
  {
   "cell_type": "code",
   "execution_count": null,
   "metadata": {},
   "outputs": [],
   "source": []
  }
 ],
 "metadata": {
  "kernelspec": {
   "display_name": "R",
   "language": "R",
   "name": "ir"
  },
  "language_info": {
   "codemirror_mode": "r",
   "file_extension": ".r",
   "mimetype": "text/x-r-source",
   "name": "R",
   "pygments_lexer": "r",
   "version": "4.0.0"
  }
 },
 "nbformat": 4,
 "nbformat_minor": 4
}
